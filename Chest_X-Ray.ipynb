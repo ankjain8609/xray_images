{
 "cells": [
  {
   "cell_type": "code",
   "execution_count": 2,
   "metadata": {},
   "outputs": [],
   "source": [
    "import os\n",
    "import tensorflow as tf\n",
    "from tensorflow.keras.optimizers import RMSprop\n",
    "from tensorflow.keras.preprocessing.image import ImageDataGenerator"
   ]
  },
  {
   "cell_type": "code",
   "execution_count": 3,
   "metadata": {},
   "outputs": [],
   "source": [
    "base_dir = '/home/ankit/kaggle_comp/kaggle/chest_xray/'"
   ]
  },
  {
   "cell_type": "code",
   "execution_count": 4,
   "metadata": {},
   "outputs": [],
   "source": [
    "train_dir = os.path.join(base_dir, 'train')"
   ]
  },
  {
   "cell_type": "code",
   "execution_count": 5,
   "metadata": {},
   "outputs": [],
   "source": [
    "# Directory with our training images\n",
    "train_normal_dir = os.path.join(train_dir, 'NORMAL')\n",
    "train_pneumonia_dir = os.path.join(train_dir, 'PNEUMONIA')"
   ]
  },
  {
   "cell_type": "code",
   "execution_count": 6,
   "metadata": {},
   "outputs": [],
   "source": [
    "train_normal_fnames = os.listdir(train_normal_dir)\n",
    "train_pneumonia_fnames = os.listdir(train_pneumonia_dir)"
   ]
  },
  {
   "cell_type": "code",
   "execution_count": 7,
   "metadata": {},
   "outputs": [],
   "source": [
    "val_dir = os.path.join(base_dir, 'val')"
   ]
  },
  {
   "cell_type": "code",
   "execution_count": 8,
   "metadata": {},
   "outputs": [],
   "source": [
    "# Directory with our training images\n",
    "val_normal_dir = os.path.join(val_dir, 'NORMAL')\n",
    "val_pneumonia_dir = os.path.join(val_dir, 'PNEUMONIA')"
   ]
  },
  {
   "cell_type": "code",
   "execution_count": 9,
   "metadata": {},
   "outputs": [],
   "source": [
    "val_normal_fnames = os.listdir(val_normal_dir)\n",
    "val_pneumonia_fnames = os.listdir(val_pneumonia_dir)"
   ]
  },
  {
   "cell_type": "code",
   "execution_count": 10,
   "metadata": {},
   "outputs": [],
   "source": [
    "test_dir = os.path.join(base_dir, 'test')"
   ]
  },
  {
   "cell_type": "code",
   "execution_count": 11,
   "metadata": {},
   "outputs": [],
   "source": [
    "# Directory with our training images\n",
    "test_normal_dir = os.path.join(test_dir, 'NORMAL')\n",
    "test_pneumonia_dir = os.path.join(test_dir, 'PNEUMONIA')"
   ]
  },
  {
   "cell_type": "code",
   "execution_count": 12,
   "metadata": {},
   "outputs": [],
   "source": [
    "test_normal_fnames = os.listdir(test_normal_dir)\n",
    "test_pneumonia_fnames = os.listdir(test_pneumonia_dir)"
   ]
  },
  {
   "cell_type": "code",
   "execution_count": 13,
   "metadata": {},
   "outputs": [
    {
     "name": "stdout",
     "output_type": "stream",
     "text": [
      "There are total  1341 Normal images in the 'Train' dataset.\n",
      "There are total  3875 Pneumonia images in the 'Train' dataset.\n",
      "There are total  8 Normal images in the 'Validation' dataset.\n",
      "There are total  8 Penumonia images in the 'Validation' dataset.\n",
      "There are total  233 Normal images in the 'Test' dataset.\n",
      "There are total  389 Penumonia images in the 'Test' dataset.\n"
     ]
    }
   ],
   "source": [
    "print(\"There are total \", len(train_normal_fnames) - 1, \"Normal images in the 'Train' dataset.\")\n",
    "print(\"There are total \", len(train_pneumonia_fnames) - 1, \"Pneumonia images in the 'Train' dataset.\")\n",
    "print(\"There are total \", len(val_normal_fnames) -1, \"Normal images in the 'Validation' dataset.\")\n",
    "print(\"There are total \", len(val_pneumonia_fnames) -1, \"Penumonia images in the 'Validation' dataset.\")\n",
    "print(\"There are total \", len(test_normal_fnames) -1, \"Normal images in the 'Test' dataset.\")\n",
    "print(\"There are total \", len(test_pneumonia_fnames) -1, \"Penumonia images in the 'Test' dataset.\")"
   ]
  },
  {
   "cell_type": "code",
   "execution_count": 14,
   "metadata": {},
   "outputs": [],
   "source": [
    "train_datagen = ImageDataGenerator(rescale=1.0/255.)\n",
    "val_datagen = ImageDataGenerator(rescale=1.0/255.)\n",
    "test_datagen = ImageDataGenerator(rescale=1.0/255.)"
   ]
  },
  {
   "cell_type": "code",
   "execution_count": 15,
   "metadata": {},
   "outputs": [],
   "source": [
    "model = tf.keras.models.Sequential([\n",
    "    # Note the input shape is the desired size of the image 150x150 with 3 bytes color\n",
    "    tf.keras.layers.Conv2D(16, (3,3), activation='relu', input_shape=(300, 300, 3)),\n",
    "    #tf.keras.layers.Dropout(0.5),\n",
    "    tf.keras.layers.MaxPooling2D(2,2),\n",
    "\n",
    "    tf.keras.layers.Conv2D(32, (3,3), activation='relu'),\n",
    "    #tf.keras.layers.Dropout(0.5),\n",
    "    tf.keras.layers.MaxPooling2D(2,2), \n",
    "    \n",
    "    tf.keras.layers.Conv2D(64, (3,3), activation='relu'), \n",
    "    #tf.keras.layers.Dropout(0.5),\n",
    "    tf.keras.layers.MaxPooling2D(2,2),\n",
    "    \n",
    "    tf.keras.layers.Conv2D(64, (3,3), activation='relu'), \n",
    "    #tf.keras.layers.Dropout(0.5),\n",
    "    tf.keras.layers.MaxPooling2D(2,2),\n",
    "    # Flatten the results to feed into a DNN\n",
    "    tf.keras.layers.Conv2D(64, (3,3), activation='relu'), \n",
    "    tf.keras.layers.Dropout(0.5),\n",
    "    tf.keras.layers.MaxPooling2D(2,2),\n",
    "\n",
    "    tf.keras.layers.Flatten(),\n",
    "    # 512 neuron hidden layer\n",
    "    tf.keras.layers.Dense(128, activation='relu'), \n",
    "    tf.keras.layers.Dropout(0.5),\n",
    "    tf.keras.layers.Dense(1, activation='sigmoid')  \n",
    "])"
   ]
  },
  {
   "cell_type": "code",
   "execution_count": 16,
   "metadata": {},
   "outputs": [
    {
     "name": "stdout",
     "output_type": "stream",
     "text": [
      "Model: \"sequential\"\n",
      "_________________________________________________________________\n",
      "Layer (type)                 Output Shape              Param #   \n",
      "=================================================================\n",
      "conv2d (Conv2D)              (None, 298, 298, 16)      448       \n",
      "_________________________________________________________________\n",
      "max_pooling2d (MaxPooling2D) (None, 149, 149, 16)      0         \n",
      "_________________________________________________________________\n",
      "conv2d_1 (Conv2D)            (None, 147, 147, 32)      4640      \n",
      "_________________________________________________________________\n",
      "max_pooling2d_1 (MaxPooling2 (None, 73, 73, 32)        0         \n",
      "_________________________________________________________________\n",
      "conv2d_2 (Conv2D)            (None, 71, 71, 64)        18496     \n",
      "_________________________________________________________________\n",
      "max_pooling2d_2 (MaxPooling2 (None, 35, 35, 64)        0         \n",
      "_________________________________________________________________\n",
      "conv2d_3 (Conv2D)            (None, 33, 33, 64)        36928     \n",
      "_________________________________________________________________\n",
      "max_pooling2d_3 (MaxPooling2 (None, 16, 16, 64)        0         \n",
      "_________________________________________________________________\n",
      "conv2d_4 (Conv2D)            (None, 14, 14, 64)        36928     \n",
      "_________________________________________________________________\n",
      "dropout (Dropout)            (None, 14, 14, 64)        0         \n",
      "_________________________________________________________________\n",
      "max_pooling2d_4 (MaxPooling2 (None, 7, 7, 64)          0         \n",
      "_________________________________________________________________\n",
      "flatten (Flatten)            (None, 3136)              0         \n",
      "_________________________________________________________________\n",
      "dense (Dense)                (None, 128)               401536    \n",
      "_________________________________________________________________\n",
      "dropout_1 (Dropout)          (None, 128)               0         \n",
      "_________________________________________________________________\n",
      "dense_1 (Dense)              (None, 1)                 129       \n",
      "=================================================================\n",
      "Total params: 499,105\n",
      "Trainable params: 499,105\n",
      "Non-trainable params: 0\n",
      "_________________________________________________________________\n"
     ]
    }
   ],
   "source": [
    "model.summary()"
   ]
  },
  {
   "cell_type": "code",
   "execution_count": 26,
   "metadata": {},
   "outputs": [],
   "source": [
    "model.compile(optimizer=RMSprop(lr=0.001),\n",
    "              loss='binary_crossentropy',\n",
    "              metrics = ['accuracy'])"
   ]
  },
  {
   "cell_type": "code",
   "execution_count": 27,
   "metadata": {},
   "outputs": [
    {
     "name": "stdout",
     "output_type": "stream",
     "text": [
      "Found 5216 images belonging to 2 classes.\n"
     ]
    }
   ],
   "source": [
    "train_generator = train_datagen.flow_from_directory(train_dir,\n",
    "                                                    batch_size=50,\n",
    "                                                    color_mode= 'rgb',\n",
    "                                                    class_mode='binary',\n",
    "                                                    target_size=(300, 300))   "
   ]
  },
  {
   "cell_type": "code",
   "execution_count": 28,
   "metadata": {},
   "outputs": [
    {
     "name": "stdout",
     "output_type": "stream",
     "text": [
      "Found 16 images belonging to 2 classes.\n"
     ]
    }
   ],
   "source": [
    "val_generator =  val_datagen.flow_from_directory(val_dir,\n",
    "                                                 batch_size=50,\n",
    "                                                 color_mode= 'rgb',\n",
    "                                                 class_mode='binary',\n",
    "                                                 target_size = (300, 300))"
   ]
  },
  {
   "cell_type": "code",
   "execution_count": 29,
   "metadata": {},
   "outputs": [
    {
     "name": "stdout",
     "output_type": "stream",
     "text": [
      "Found 624 images belonging to 2 classes.\n"
     ]
    }
   ],
   "source": [
    "test_generator =  test_datagen.flow_from_directory(test_dir,\n",
    "                                                 batch_size=50,\n",
    "                                                 color_mode= 'rgb',\n",
    "                                                 class_mode='binary',\n",
    "                                                 target_size = (300, 300))"
   ]
  },
  {
   "cell_type": "code",
   "execution_count": 30,
   "metadata": {
    "collapsed": true
   },
   "outputs": [
    {
     "name": "stdout",
     "output_type": "stream",
     "text": [
      "Epoch 1/10\n",
      "50/50 [==============================] - 311s 6s/step - loss: 0.5894 - accuracy: 0.7392 - val_loss: 0.5708 - val_accuracy: 0.6731\n",
      "Epoch 2/10\n",
      "50/50 [==============================] - 301s 6s/step - loss: 0.3310 - accuracy: 0.8710 - val_loss: 0.3588 - val_accuracy: 0.8526\n",
      "Epoch 3/10\n",
      "50/50 [==============================] - 296s 6s/step - loss: 0.2311 - accuracy: 0.9112 - val_loss: 0.4349 - val_accuracy: 0.8029\n",
      "Epoch 4/10\n",
      "50/50 [==============================] - 300s 6s/step - loss: 0.1797 - accuracy: 0.9328 - val_loss: 0.5157 - val_accuracy: 0.7692\n",
      "Epoch 5/10\n",
      "50/50 [==============================] - 298s 6s/step - loss: 0.1501 - accuracy: 0.9460 - val_loss: 0.7391 - val_accuracy: 0.7003\n",
      "Epoch 6/10\n",
      "50/50 [==============================] - 301s 6s/step - loss: 0.1533 - accuracy: 0.9408 - val_loss: 0.5529 - val_accuracy: 0.7804\n",
      "Epoch 7/10\n",
      "50/50 [==============================] - 296s 6s/step - loss: 0.1255 - accuracy: 0.9512 - val_loss: 1.1068 - val_accuracy: 0.6715\n",
      "Epoch 8/10\n",
      "50/50 [==============================] - 300s 6s/step - loss: 0.1290 - accuracy: 0.9552 - val_loss: 0.6642 - val_accuracy: 0.7853\n",
      "Epoch 9/10\n",
      "50/50 [==============================] - 174s 3s/step - loss: 0.1090 - accuracy: 0.9592 - val_loss: 0.4689 - val_accuracy: 0.8157\n",
      "Epoch 10/10\n",
      "50/50 [==============================] - 160s 3s/step - loss: 0.1118 - accuracy: 0.9568 - val_loss: 0.5177 - val_accuracy: 0.7965\n"
     ]
    }
   ],
   "source": [
    "history = model.fit(train_generator,\n",
    "                    validation_data=test_generator,\n",
    "                    steps_per_epoch=50,\n",
    "                    epochs=10,\n",
    "                    validation_steps=None,\n",
    "                    verbose=1)"
   ]
  },
  {
   "cell_type": "code",
   "execution_count": null,
   "metadata": {},
   "outputs": [],
   "source": []
  },
  {
   "cell_type": "code",
   "execution_count": null,
   "metadata": {},
   "outputs": [],
   "source": []
  },
  {
   "cell_type": "code",
   "execution_count": null,
   "metadata": {},
   "outputs": [],
   "source": []
  },
  {
   "cell_type": "code",
   "execution_count": null,
   "metadata": {},
   "outputs": [],
   "source": [
    "import matplotlib.image as mpimg\n",
    "import matplotlib.pyplot as plt"
   ]
  },
  {
   "cell_type": "code",
   "execution_count": null,
   "metadata": {},
   "outputs": [],
   "source": [
    "img = mpimg.imread('/home/ankit/kaggle_comp/kaggle/chest_xray/train/PNEUMONIA/person1002_bacteria_2933.jpeg')"
   ]
  },
  {
   "cell_type": "code",
   "execution_count": null,
   "metadata": {},
   "outputs": [],
   "source": [
    "img.shape"
   ]
  },
  {
   "cell_type": "code",
   "execution_count": null,
   "metadata": {},
   "outputs": [],
   "source": [
    "plt.imshow(mpimg.imread('/home/ankit/kaggle_comp/kaggle/chest_xray/train/PNEUMONIA/person1002_bacteria_2933.jpeg'))"
   ]
  },
  {
   "cell_type": "code",
   "execution_count": null,
   "metadata": {},
   "outputs": [],
   "source": [
    "for i in train_normal_fnames:\n",
    "    img = mpimg.imread('/home/ankit/kaggle_comp/kaggle/chest_xray/train/NORMAL/' + tr)\n",
    "    size = img.shape\n",
    "    print(size)"
   ]
  },
  {
   "cell_type": "code",
   "execution_count": null,
   "metadata": {},
   "outputs": [],
   "source": [
    "plt.imshow(mpimg.imread('/home/ankit/kaggle_comp/kaggle/chest_xray/train/PNEUMONIA/person1002_bacteria_2933.jpeg'))"
   ]
  },
  {
   "cell_type": "code",
   "execution_count": null,
   "metadata": {},
   "outputs": [],
   "source": [
    "# Set up matplotlib fig, and size it to fit 4x4 pics\n",
    "fig = plt.gcf()\n",
    "fig.set_size_inches(ncols*4, nrows*4)\n",
    "\n",
    "pic_index+=8\n",
    "\n",
    "next_normal_pix = [os.path.join(train_normal_dir, fname) \n",
    "                for fname in train_normal_fnames[ pic_index-8:pic_index]]\n",
    "\n",
    "next_pneumonia_pix = [os.path.join(train_pneumonia_dir, fname) \n",
    "                for fname in train_pneumonia_fnames[ pic_index-8:pic_index]]"
   ]
  },
  {
   "cell_type": "code",
   "execution_count": null,
   "metadata": {},
   "outputs": [],
   "source": []
  },
  {
   "cell_type": "code",
   "execution_count": null,
   "metadata": {},
   "outputs": [],
   "source": [
    "for i, img_path in enumerate(next_normal_pix+next_penumonia_pix):"
   ]
  },
  {
   "cell_type": "code",
   "execution_count": null,
   "metadata": {},
   "outputs": [],
   "source": [
    "for i, img_path in enumerate(next_normal_pix+next_penumonia_pix):\n",
    "  # Set up subplot; subplot indices start at 1\n",
    "  sp = plt.subplot(nrows, ncols, i + 1)\n",
    "  sp.axis('Off') # Don't show axes (or gridlines)\n",
    "\n",
    "  img = mpimg.imread(img_path)\n",
    "  plt.imshow(img)\n",
    "\n",
    "plt.show()"
   ]
  },
  {
   "cell_type": "code",
   "execution_count": null,
   "metadata": {},
   "outputs": [],
   "source": []
  }
 ],
 "metadata": {
  "kernelspec": {
   "display_name": "Python 3",
   "language": "python",
   "name": "python3"
  },
  "language_info": {
   "codemirror_mode": {
    "name": "ipython",
    "version": 3
   },
   "file_extension": ".py",
   "mimetype": "text/x-python",
   "name": "python",
   "nbconvert_exporter": "python",
   "pygments_lexer": "ipython3",
   "version": "3.6.9"
  }
 },
 "nbformat": 4,
 "nbformat_minor": 4
}
